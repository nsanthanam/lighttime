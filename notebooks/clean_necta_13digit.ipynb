{
 "cells": [
  {
   "cell_type": "code",
   "execution_count": 13,
   "metadata": {},
   "outputs": [],
   "source": [
    "%matplotlib inline\n",
    "import pandas as pd\n",
    "import numpy as np\n",
    "import matplotlib.pyplot as plt"
   ]
  },
  {
   "cell_type": "code",
   "execution_count": 14,
   "metadata": {},
   "outputs": [],
   "source": [
    "pd.options.display.max_rows = 50"
   ]
  },
  {
   "cell_type": "markdown",
   "metadata": {},
   "source": [
    "# Read data"
   ]
  },
  {
   "cell_type": "code",
   "execution_count": 15,
   "metadata": {},
   "outputs": [],
   "source": [
    "project_dir = '/Users/navaneethan/Documents/projects/lighttime/'\n",
    "raw_dir = project_dir + 'raw/'\n",
    "processed_dir = project_dir + 'processed/'"
   ]
  },
  {
   "cell_type": "markdown",
   "metadata": {},
   "source": [
    "## NECTA data"
   ]
  },
  {
   "cell_type": "code",
   "execution_count": 31,
   "metadata": {},
   "outputs": [],
   "source": [
    "necta_fname = 'necta_fips_mapping_sep2018.csv'"
   ]
  },
  {
   "cell_type": "code",
   "execution_count": 32,
   "metadata": {},
   "outputs": [],
   "source": [
    "dtypes = {\n",
    "    'FIPS State Code': str, \n",
    "    'FIPS County Code': str,\n",
    "    'FIPS County Subdivision Code': str\n",
    "}"
   ]
  },
  {
   "cell_type": "code",
   "execution_count": 33,
   "metadata": {},
   "outputs": [],
   "source": [
    "necta = pd.read_csv(raw_dir+necta_fname, header=2, dtype=dtypes)"
   ]
  },
  {
   "cell_type": "code",
   "execution_count": 34,
   "metadata": {},
   "outputs": [],
   "source": [
    "drop_na_cols = ['NECTA Code', 'FIPS State Code', 'FIPS County Code', 'FIPS County Subdivision Code']\n",
    "necta.dropna(subset=drop_na_cols, inplace=True)"
   ]
  },
  {
   "cell_type": "code",
   "execution_count": 35,
   "metadata": {},
   "outputs": [
    {
     "data": {
      "text/html": [
       "<div>\n",
       "<style scoped>\n",
       "    .dataframe tbody tr th:only-of-type {\n",
       "        vertical-align: middle;\n",
       "    }\n",
       "\n",
       "    .dataframe tbody tr th {\n",
       "        vertical-align: top;\n",
       "    }\n",
       "\n",
       "    .dataframe thead th {\n",
       "        text-align: right;\n",
       "    }\n",
       "</style>\n",
       "<table border=\"1\" class=\"dataframe\">\n",
       "  <thead>\n",
       "    <tr style=\"text-align: right;\">\n",
       "      <th></th>\n",
       "      <th>NECTA Code</th>\n",
       "      <th>NECTA Division Code</th>\n",
       "      <th>Combined NECTA Code</th>\n",
       "      <th>NECTA Title</th>\n",
       "      <th>Metropolitan/Micropolitan NECTA</th>\n",
       "      <th>NECTA Division Title</th>\n",
       "      <th>Combined NECTA Title</th>\n",
       "      <th>City or Town Name</th>\n",
       "      <th>FIPS State Code</th>\n",
       "      <th>FIPS County Code</th>\n",
       "      <th>FIPS County Subdivision Code</th>\n",
       "    </tr>\n",
       "  </thead>\n",
       "  <tbody>\n",
       "    <tr>\n",
       "      <th>0</th>\n",
       "      <td>70450</td>\n",
       "      <td>NaN</td>\n",
       "      <td>715.0</td>\n",
       "      <td>Athol, MA</td>\n",
       "      <td>Micropolitan NECTA</td>\n",
       "      <td>NaN</td>\n",
       "      <td>Boston-Worcester-Providence, MA-RI-NH-CT-ME</td>\n",
       "      <td>Orange town</td>\n",
       "      <td>25</td>\n",
       "      <td>011</td>\n",
       "      <td>51265</td>\n",
       "    </tr>\n",
       "    <tr>\n",
       "      <th>1</th>\n",
       "      <td>70450</td>\n",
       "      <td>NaN</td>\n",
       "      <td>715.0</td>\n",
       "      <td>Athol, MA</td>\n",
       "      <td>Micropolitan NECTA</td>\n",
       "      <td>NaN</td>\n",
       "      <td>Boston-Worcester-Providence, MA-RI-NH-CT-ME</td>\n",
       "      <td>Warwick town</td>\n",
       "      <td>25</td>\n",
       "      <td>011</td>\n",
       "      <td>73265</td>\n",
       "    </tr>\n",
       "    <tr>\n",
       "      <th>2</th>\n",
       "      <td>70450</td>\n",
       "      <td>NaN</td>\n",
       "      <td>715.0</td>\n",
       "      <td>Athol, MA</td>\n",
       "      <td>Micropolitan NECTA</td>\n",
       "      <td>NaN</td>\n",
       "      <td>Boston-Worcester-Providence, MA-RI-NH-CT-ME</td>\n",
       "      <td>Athol town</td>\n",
       "      <td>25</td>\n",
       "      <td>027</td>\n",
       "      <td>02480</td>\n",
       "    </tr>\n",
       "    <tr>\n",
       "      <th>3</th>\n",
       "      <td>70450</td>\n",
       "      <td>NaN</td>\n",
       "      <td>715.0</td>\n",
       "      <td>Athol, MA</td>\n",
       "      <td>Micropolitan NECTA</td>\n",
       "      <td>NaN</td>\n",
       "      <td>Boston-Worcester-Providence, MA-RI-NH-CT-ME</td>\n",
       "      <td>Royalston town</td>\n",
       "      <td>25</td>\n",
       "      <td>027</td>\n",
       "      <td>58580</td>\n",
       "    </tr>\n",
       "    <tr>\n",
       "      <th>4</th>\n",
       "      <td>70600</td>\n",
       "      <td>NaN</td>\n",
       "      <td>710.0</td>\n",
       "      <td>Augusta, ME</td>\n",
       "      <td>Micropolitan NECTA</td>\n",
       "      <td>NaN</td>\n",
       "      <td>Augusta-Waterville, ME</td>\n",
       "      <td>Augusta city</td>\n",
       "      <td>23</td>\n",
       "      <td>011</td>\n",
       "      <td>02100</td>\n",
       "    </tr>\n",
       "  </tbody>\n",
       "</table>\n",
       "</div>"
      ],
      "text/plain": [
       "   NECTA Code  NECTA Division Code  Combined NECTA Code  NECTA Title  \\\n",
       "0       70450                  NaN                715.0    Athol, MA   \n",
       "1       70450                  NaN                715.0    Athol, MA   \n",
       "2       70450                  NaN                715.0    Athol, MA   \n",
       "3       70450                  NaN                715.0    Athol, MA   \n",
       "4       70600                  NaN                710.0  Augusta, ME   \n",
       "\n",
       "  Metropolitan/Micropolitan NECTA NECTA Division Title  \\\n",
       "0              Micropolitan NECTA                  NaN   \n",
       "1              Micropolitan NECTA                  NaN   \n",
       "2              Micropolitan NECTA                  NaN   \n",
       "3              Micropolitan NECTA                  NaN   \n",
       "4              Micropolitan NECTA                  NaN   \n",
       "\n",
       "                          Combined NECTA Title City or Town Name  \\\n",
       "0  Boston-Worcester-Providence, MA-RI-NH-CT-ME       Orange town   \n",
       "1  Boston-Worcester-Providence, MA-RI-NH-CT-ME      Warwick town   \n",
       "2  Boston-Worcester-Providence, MA-RI-NH-CT-ME        Athol town   \n",
       "3  Boston-Worcester-Providence, MA-RI-NH-CT-ME    Royalston town   \n",
       "4                       Augusta-Waterville, ME      Augusta city   \n",
       "\n",
       "  FIPS State Code FIPS County Code FIPS County Subdivision Code  \n",
       "0              25              011                        51265  \n",
       "1              25              011                        73265  \n",
       "2              25              027                        02480  \n",
       "3              25              027                        58580  \n",
       "4              23              011                        02100  "
      ]
     },
     "execution_count": 35,
     "metadata": {},
     "output_type": "execute_result"
    }
   ],
   "source": [
    "necta.head()"
   ]
  },
  {
   "cell_type": "code",
   "execution_count": 36,
   "metadata": {},
   "outputs": [],
   "source": [
    "necta['FIPS State Code'] = necta['FIPS State Code'].apply(lambda fsc: 'G'+str(fsc)+'0')"
   ]
  },
  {
   "cell_type": "code",
   "execution_count": 37,
   "metadata": {},
   "outputs": [
    {
     "data": {
      "text/html": [
       "<div>\n",
       "<style scoped>\n",
       "    .dataframe tbody tr th:only-of-type {\n",
       "        vertical-align: middle;\n",
       "    }\n",
       "\n",
       "    .dataframe tbody tr th {\n",
       "        vertical-align: top;\n",
       "    }\n",
       "\n",
       "    .dataframe thead th {\n",
       "        text-align: right;\n",
       "    }\n",
       "</style>\n",
       "<table border=\"1\" class=\"dataframe\">\n",
       "  <thead>\n",
       "    <tr style=\"text-align: right;\">\n",
       "      <th></th>\n",
       "      <th>NECTA Code</th>\n",
       "      <th>NECTA Division Code</th>\n",
       "      <th>Combined NECTA Code</th>\n",
       "      <th>NECTA Title</th>\n",
       "      <th>Metropolitan/Micropolitan NECTA</th>\n",
       "      <th>NECTA Division Title</th>\n",
       "      <th>Combined NECTA Title</th>\n",
       "      <th>City or Town Name</th>\n",
       "      <th>FIPS State Code</th>\n",
       "      <th>FIPS County Code</th>\n",
       "      <th>FIPS County Subdivision Code</th>\n",
       "    </tr>\n",
       "  </thead>\n",
       "  <tbody>\n",
       "    <tr>\n",
       "      <th>0</th>\n",
       "      <td>70450</td>\n",
       "      <td>NaN</td>\n",
       "      <td>715.0</td>\n",
       "      <td>Athol, MA</td>\n",
       "      <td>Micropolitan NECTA</td>\n",
       "      <td>NaN</td>\n",
       "      <td>Boston-Worcester-Providence, MA-RI-NH-CT-ME</td>\n",
       "      <td>Orange town</td>\n",
       "      <td>G250</td>\n",
       "      <td>011</td>\n",
       "      <td>51265</td>\n",
       "    </tr>\n",
       "    <tr>\n",
       "      <th>1</th>\n",
       "      <td>70450</td>\n",
       "      <td>NaN</td>\n",
       "      <td>715.0</td>\n",
       "      <td>Athol, MA</td>\n",
       "      <td>Micropolitan NECTA</td>\n",
       "      <td>NaN</td>\n",
       "      <td>Boston-Worcester-Providence, MA-RI-NH-CT-ME</td>\n",
       "      <td>Warwick town</td>\n",
       "      <td>G250</td>\n",
       "      <td>011</td>\n",
       "      <td>73265</td>\n",
       "    </tr>\n",
       "    <tr>\n",
       "      <th>2</th>\n",
       "      <td>70450</td>\n",
       "      <td>NaN</td>\n",
       "      <td>715.0</td>\n",
       "      <td>Athol, MA</td>\n",
       "      <td>Micropolitan NECTA</td>\n",
       "      <td>NaN</td>\n",
       "      <td>Boston-Worcester-Providence, MA-RI-NH-CT-ME</td>\n",
       "      <td>Athol town</td>\n",
       "      <td>G250</td>\n",
       "      <td>027</td>\n",
       "      <td>02480</td>\n",
       "    </tr>\n",
       "    <tr>\n",
       "      <th>3</th>\n",
       "      <td>70450</td>\n",
       "      <td>NaN</td>\n",
       "      <td>715.0</td>\n",
       "      <td>Athol, MA</td>\n",
       "      <td>Micropolitan NECTA</td>\n",
       "      <td>NaN</td>\n",
       "      <td>Boston-Worcester-Providence, MA-RI-NH-CT-ME</td>\n",
       "      <td>Royalston town</td>\n",
       "      <td>G250</td>\n",
       "      <td>027</td>\n",
       "      <td>58580</td>\n",
       "    </tr>\n",
       "    <tr>\n",
       "      <th>4</th>\n",
       "      <td>70600</td>\n",
       "      <td>NaN</td>\n",
       "      <td>710.0</td>\n",
       "      <td>Augusta, ME</td>\n",
       "      <td>Micropolitan NECTA</td>\n",
       "      <td>NaN</td>\n",
       "      <td>Augusta-Waterville, ME</td>\n",
       "      <td>Augusta city</td>\n",
       "      <td>G230</td>\n",
       "      <td>011</td>\n",
       "      <td>02100</td>\n",
       "    </tr>\n",
       "  </tbody>\n",
       "</table>\n",
       "</div>"
      ],
      "text/plain": [
       "   NECTA Code  NECTA Division Code  Combined NECTA Code  NECTA Title  \\\n",
       "0       70450                  NaN                715.0    Athol, MA   \n",
       "1       70450                  NaN                715.0    Athol, MA   \n",
       "2       70450                  NaN                715.0    Athol, MA   \n",
       "3       70450                  NaN                715.0    Athol, MA   \n",
       "4       70600                  NaN                710.0  Augusta, ME   \n",
       "\n",
       "  Metropolitan/Micropolitan NECTA NECTA Division Title  \\\n",
       "0              Micropolitan NECTA                  NaN   \n",
       "1              Micropolitan NECTA                  NaN   \n",
       "2              Micropolitan NECTA                  NaN   \n",
       "3              Micropolitan NECTA                  NaN   \n",
       "4              Micropolitan NECTA                  NaN   \n",
       "\n",
       "                          Combined NECTA Title City or Town Name  \\\n",
       "0  Boston-Worcester-Providence, MA-RI-NH-CT-ME       Orange town   \n",
       "1  Boston-Worcester-Providence, MA-RI-NH-CT-ME      Warwick town   \n",
       "2  Boston-Worcester-Providence, MA-RI-NH-CT-ME        Athol town   \n",
       "3  Boston-Worcester-Providence, MA-RI-NH-CT-ME    Royalston town   \n",
       "4                       Augusta-Waterville, ME      Augusta city   \n",
       "\n",
       "  FIPS State Code FIPS County Code FIPS County Subdivision Code  \n",
       "0            G250              011                        51265  \n",
       "1            G250              011                        73265  \n",
       "2            G250              027                        02480  \n",
       "3            G250              027                        58580  \n",
       "4            G230              011                        02100  "
      ]
     },
     "execution_count": 37,
     "metadata": {},
     "output_type": "execute_result"
    }
   ],
   "source": [
    "necta.head()"
   ]
  },
  {
   "cell_type": "code",
   "execution_count": 38,
   "metadata": {},
   "outputs": [],
   "source": [
    "necta['FIPS County Code'] = necta['FIPS County Code'].apply(lambda fcc: str(fcc)+'0')"
   ]
  },
  {
   "cell_type": "code",
   "execution_count": 39,
   "metadata": {},
   "outputs": [
    {
     "data": {
      "text/html": [
       "<div>\n",
       "<style scoped>\n",
       "    .dataframe tbody tr th:only-of-type {\n",
       "        vertical-align: middle;\n",
       "    }\n",
       "\n",
       "    .dataframe tbody tr th {\n",
       "        vertical-align: top;\n",
       "    }\n",
       "\n",
       "    .dataframe thead th {\n",
       "        text-align: right;\n",
       "    }\n",
       "</style>\n",
       "<table border=\"1\" class=\"dataframe\">\n",
       "  <thead>\n",
       "    <tr style=\"text-align: right;\">\n",
       "      <th></th>\n",
       "      <th>NECTA Code</th>\n",
       "      <th>NECTA Division Code</th>\n",
       "      <th>Combined NECTA Code</th>\n",
       "      <th>NECTA Title</th>\n",
       "      <th>Metropolitan/Micropolitan NECTA</th>\n",
       "      <th>NECTA Division Title</th>\n",
       "      <th>Combined NECTA Title</th>\n",
       "      <th>City or Town Name</th>\n",
       "      <th>FIPS State Code</th>\n",
       "      <th>FIPS County Code</th>\n",
       "      <th>FIPS County Subdivision Code</th>\n",
       "    </tr>\n",
       "  </thead>\n",
       "  <tbody>\n",
       "    <tr>\n",
       "      <th>0</th>\n",
       "      <td>70450</td>\n",
       "      <td>NaN</td>\n",
       "      <td>715.0</td>\n",
       "      <td>Athol, MA</td>\n",
       "      <td>Micropolitan NECTA</td>\n",
       "      <td>NaN</td>\n",
       "      <td>Boston-Worcester-Providence, MA-RI-NH-CT-ME</td>\n",
       "      <td>Orange town</td>\n",
       "      <td>G250</td>\n",
       "      <td>0110</td>\n",
       "      <td>51265</td>\n",
       "    </tr>\n",
       "    <tr>\n",
       "      <th>1</th>\n",
       "      <td>70450</td>\n",
       "      <td>NaN</td>\n",
       "      <td>715.0</td>\n",
       "      <td>Athol, MA</td>\n",
       "      <td>Micropolitan NECTA</td>\n",
       "      <td>NaN</td>\n",
       "      <td>Boston-Worcester-Providence, MA-RI-NH-CT-ME</td>\n",
       "      <td>Warwick town</td>\n",
       "      <td>G250</td>\n",
       "      <td>0110</td>\n",
       "      <td>73265</td>\n",
       "    </tr>\n",
       "    <tr>\n",
       "      <th>2</th>\n",
       "      <td>70450</td>\n",
       "      <td>NaN</td>\n",
       "      <td>715.0</td>\n",
       "      <td>Athol, MA</td>\n",
       "      <td>Micropolitan NECTA</td>\n",
       "      <td>NaN</td>\n",
       "      <td>Boston-Worcester-Providence, MA-RI-NH-CT-ME</td>\n",
       "      <td>Athol town</td>\n",
       "      <td>G250</td>\n",
       "      <td>0270</td>\n",
       "      <td>02480</td>\n",
       "    </tr>\n",
       "    <tr>\n",
       "      <th>3</th>\n",
       "      <td>70450</td>\n",
       "      <td>NaN</td>\n",
       "      <td>715.0</td>\n",
       "      <td>Athol, MA</td>\n",
       "      <td>Micropolitan NECTA</td>\n",
       "      <td>NaN</td>\n",
       "      <td>Boston-Worcester-Providence, MA-RI-NH-CT-ME</td>\n",
       "      <td>Royalston town</td>\n",
       "      <td>G250</td>\n",
       "      <td>0270</td>\n",
       "      <td>58580</td>\n",
       "    </tr>\n",
       "    <tr>\n",
       "      <th>4</th>\n",
       "      <td>70600</td>\n",
       "      <td>NaN</td>\n",
       "      <td>710.0</td>\n",
       "      <td>Augusta, ME</td>\n",
       "      <td>Micropolitan NECTA</td>\n",
       "      <td>NaN</td>\n",
       "      <td>Augusta-Waterville, ME</td>\n",
       "      <td>Augusta city</td>\n",
       "      <td>G230</td>\n",
       "      <td>0110</td>\n",
       "      <td>02100</td>\n",
       "    </tr>\n",
       "  </tbody>\n",
       "</table>\n",
       "</div>"
      ],
      "text/plain": [
       "   NECTA Code  NECTA Division Code  Combined NECTA Code  NECTA Title  \\\n",
       "0       70450                  NaN                715.0    Athol, MA   \n",
       "1       70450                  NaN                715.0    Athol, MA   \n",
       "2       70450                  NaN                715.0    Athol, MA   \n",
       "3       70450                  NaN                715.0    Athol, MA   \n",
       "4       70600                  NaN                710.0  Augusta, ME   \n",
       "\n",
       "  Metropolitan/Micropolitan NECTA NECTA Division Title  \\\n",
       "0              Micropolitan NECTA                  NaN   \n",
       "1              Micropolitan NECTA                  NaN   \n",
       "2              Micropolitan NECTA                  NaN   \n",
       "3              Micropolitan NECTA                  NaN   \n",
       "4              Micropolitan NECTA                  NaN   \n",
       "\n",
       "                          Combined NECTA Title City or Town Name  \\\n",
       "0  Boston-Worcester-Providence, MA-RI-NH-CT-ME       Orange town   \n",
       "1  Boston-Worcester-Providence, MA-RI-NH-CT-ME      Warwick town   \n",
       "2  Boston-Worcester-Providence, MA-RI-NH-CT-ME        Athol town   \n",
       "3  Boston-Worcester-Providence, MA-RI-NH-CT-ME    Royalston town   \n",
       "4                       Augusta-Waterville, ME      Augusta city   \n",
       "\n",
       "  FIPS State Code FIPS County Code FIPS County Subdivision Code  \n",
       "0            G250             0110                        51265  \n",
       "1            G250             0110                        73265  \n",
       "2            G250             0270                        02480  \n",
       "3            G250             0270                        58580  \n",
       "4            G230             0110                        02100  "
      ]
     },
     "execution_count": 39,
     "metadata": {},
     "output_type": "execute_result"
    }
   ],
   "source": [
    "necta.head()"
   ]
  },
  {
   "cell_type": "code",
   "execution_count": 40,
   "metadata": {},
   "outputs": [],
   "source": [
    "necta['fips_state_place'] = necta['FIPS State Code'] + \\\n",
    "                            necta['FIPS County Code'] + \\\n",
    "                            necta['FIPS County Subdivision Code']"
   ]
  },
  {
   "cell_type": "code",
   "execution_count": 41,
   "metadata": {},
   "outputs": [
    {
     "data": {
      "text/html": [
       "<div>\n",
       "<style scoped>\n",
       "    .dataframe tbody tr th:only-of-type {\n",
       "        vertical-align: middle;\n",
       "    }\n",
       "\n",
       "    .dataframe tbody tr th {\n",
       "        vertical-align: top;\n",
       "    }\n",
       "\n",
       "    .dataframe thead th {\n",
       "        text-align: right;\n",
       "    }\n",
       "</style>\n",
       "<table border=\"1\" class=\"dataframe\">\n",
       "  <thead>\n",
       "    <tr style=\"text-align: right;\">\n",
       "      <th></th>\n",
       "      <th>NECTA Code</th>\n",
       "      <th>NECTA Division Code</th>\n",
       "      <th>Combined NECTA Code</th>\n",
       "      <th>NECTA Title</th>\n",
       "      <th>Metropolitan/Micropolitan NECTA</th>\n",
       "      <th>NECTA Division Title</th>\n",
       "      <th>Combined NECTA Title</th>\n",
       "      <th>City or Town Name</th>\n",
       "      <th>FIPS State Code</th>\n",
       "      <th>FIPS County Code</th>\n",
       "      <th>FIPS County Subdivision Code</th>\n",
       "      <th>fips_state_place</th>\n",
       "    </tr>\n",
       "  </thead>\n",
       "  <tbody>\n",
       "    <tr>\n",
       "      <th>0</th>\n",
       "      <td>70450</td>\n",
       "      <td>NaN</td>\n",
       "      <td>715.0</td>\n",
       "      <td>Athol, MA</td>\n",
       "      <td>Micropolitan NECTA</td>\n",
       "      <td>NaN</td>\n",
       "      <td>Boston-Worcester-Providence, MA-RI-NH-CT-ME</td>\n",
       "      <td>Orange town</td>\n",
       "      <td>G250</td>\n",
       "      <td>0110</td>\n",
       "      <td>51265</td>\n",
       "      <td>G250011051265</td>\n",
       "    </tr>\n",
       "    <tr>\n",
       "      <th>1</th>\n",
       "      <td>70450</td>\n",
       "      <td>NaN</td>\n",
       "      <td>715.0</td>\n",
       "      <td>Athol, MA</td>\n",
       "      <td>Micropolitan NECTA</td>\n",
       "      <td>NaN</td>\n",
       "      <td>Boston-Worcester-Providence, MA-RI-NH-CT-ME</td>\n",
       "      <td>Warwick town</td>\n",
       "      <td>G250</td>\n",
       "      <td>0110</td>\n",
       "      <td>73265</td>\n",
       "      <td>G250011073265</td>\n",
       "    </tr>\n",
       "    <tr>\n",
       "      <th>2</th>\n",
       "      <td>70450</td>\n",
       "      <td>NaN</td>\n",
       "      <td>715.0</td>\n",
       "      <td>Athol, MA</td>\n",
       "      <td>Micropolitan NECTA</td>\n",
       "      <td>NaN</td>\n",
       "      <td>Boston-Worcester-Providence, MA-RI-NH-CT-ME</td>\n",
       "      <td>Athol town</td>\n",
       "      <td>G250</td>\n",
       "      <td>0270</td>\n",
       "      <td>02480</td>\n",
       "      <td>G250027002480</td>\n",
       "    </tr>\n",
       "    <tr>\n",
       "      <th>3</th>\n",
       "      <td>70450</td>\n",
       "      <td>NaN</td>\n",
       "      <td>715.0</td>\n",
       "      <td>Athol, MA</td>\n",
       "      <td>Micropolitan NECTA</td>\n",
       "      <td>NaN</td>\n",
       "      <td>Boston-Worcester-Providence, MA-RI-NH-CT-ME</td>\n",
       "      <td>Royalston town</td>\n",
       "      <td>G250</td>\n",
       "      <td>0270</td>\n",
       "      <td>58580</td>\n",
       "      <td>G250027058580</td>\n",
       "    </tr>\n",
       "    <tr>\n",
       "      <th>4</th>\n",
       "      <td>70600</td>\n",
       "      <td>NaN</td>\n",
       "      <td>710.0</td>\n",
       "      <td>Augusta, ME</td>\n",
       "      <td>Micropolitan NECTA</td>\n",
       "      <td>NaN</td>\n",
       "      <td>Augusta-Waterville, ME</td>\n",
       "      <td>Augusta city</td>\n",
       "      <td>G230</td>\n",
       "      <td>0110</td>\n",
       "      <td>02100</td>\n",
       "      <td>G230011002100</td>\n",
       "    </tr>\n",
       "  </tbody>\n",
       "</table>\n",
       "</div>"
      ],
      "text/plain": [
       "   NECTA Code  NECTA Division Code  Combined NECTA Code  NECTA Title  \\\n",
       "0       70450                  NaN                715.0    Athol, MA   \n",
       "1       70450                  NaN                715.0    Athol, MA   \n",
       "2       70450                  NaN                715.0    Athol, MA   \n",
       "3       70450                  NaN                715.0    Athol, MA   \n",
       "4       70600                  NaN                710.0  Augusta, ME   \n",
       "\n",
       "  Metropolitan/Micropolitan NECTA NECTA Division Title  \\\n",
       "0              Micropolitan NECTA                  NaN   \n",
       "1              Micropolitan NECTA                  NaN   \n",
       "2              Micropolitan NECTA                  NaN   \n",
       "3              Micropolitan NECTA                  NaN   \n",
       "4              Micropolitan NECTA                  NaN   \n",
       "\n",
       "                          Combined NECTA Title City or Town Name  \\\n",
       "0  Boston-Worcester-Providence, MA-RI-NH-CT-ME       Orange town   \n",
       "1  Boston-Worcester-Providence, MA-RI-NH-CT-ME      Warwick town   \n",
       "2  Boston-Worcester-Providence, MA-RI-NH-CT-ME        Athol town   \n",
       "3  Boston-Worcester-Providence, MA-RI-NH-CT-ME    Royalston town   \n",
       "4                       Augusta-Waterville, ME      Augusta city   \n",
       "\n",
       "  FIPS State Code FIPS County Code FIPS County Subdivision Code  \\\n",
       "0            G250             0110                        51265   \n",
       "1            G250             0110                        73265   \n",
       "2            G250             0270                        02480   \n",
       "3            G250             0270                        58580   \n",
       "4            G230             0110                        02100   \n",
       "\n",
       "  fips_state_place  \n",
       "0    G250011051265  \n",
       "1    G250011073265  \n",
       "2    G250027002480  \n",
       "3    G250027058580  \n",
       "4    G230011002100  "
      ]
     },
     "execution_count": 41,
     "metadata": {},
     "output_type": "execute_result"
    }
   ],
   "source": [
    "necta.head()"
   ]
  },
  {
   "cell_type": "code",
   "execution_count": 42,
   "metadata": {},
   "outputs": [
    {
     "data": {
      "text/plain": [
       "(888, 12)"
      ]
     },
     "execution_count": 42,
     "metadata": {},
     "output_type": "execute_result"
    }
   ],
   "source": [
    "necta.shape"
   ]
  },
  {
   "cell_type": "code",
   "execution_count": 43,
   "metadata": {
    "collapsed": true
   },
   "outputs": [
    {
     "data": {
      "text/plain": [
       "G090009034950    1\n",
       "G090011042600    1\n",
       "G230019022710    1\n",
       "G250013000840    1\n",
       "G440007041500    1\n",
       "G330007005140    1\n",
       "G500007034600    1\n",
       "G250027058825    1\n",
       "G090009087560    1\n",
       "G500007062050    1\n",
       "G250023075260    1\n",
       "G330019031220    1\n",
       "G230011054560    1\n",
       "G250013028075    1\n",
       "G250025013205    1\n",
       "G230031087985    1\n",
       "G250011061905    1\n",
       "G230009016935    1\n",
       "G230005011125    1\n",
       "G090009069640    1\n",
       "G250017073440    1\n",
       "G230019044340    1\n",
       "G230019006925    1\n",
       "G440007052480    1\n",
       "G250017013135    1\n",
       "                ..\n",
       "G250021082315    1\n",
       "G090007035230    1\n",
       "G500017025675    1\n",
       "G250021072495    1\n",
       "G250015062745    1\n",
       "G500003069775    1\n",
       "G090005076570    1\n",
       "G250017027480    1\n",
       "G440007014140    1\n",
       "G090009062290    1\n",
       "G230005028240    1\n",
       "G250027023875    1\n",
       "G090003050440    1\n",
       "G230019067160    1\n",
       "G330015012100    1\n",
       "G250017011000    1\n",
       "G090003084900    1\n",
       "G250015072880    1\n",
       "G090009047535    1\n",
       "G090005086440    1\n",
       "G500021072925    1\n",
       "G090009014160    1\n",
       "G440009048340    1\n",
       "G250017001955    1\n",
       "G090011006820    1\n",
       "Name: fips_state_place, Length: 888, dtype: int64"
      ]
     },
     "execution_count": 43,
     "metadata": {},
     "output_type": "execute_result"
    }
   ],
   "source": [
    "necta['fips_state_place'].value_counts(dropna=False)"
   ]
  },
  {
   "cell_type": "code",
   "execution_count": 44,
   "metadata": {},
   "outputs": [
    {
     "data": {
      "text/plain": [
       "(888,)"
      ]
     },
     "execution_count": 44,
     "metadata": {},
     "output_type": "execute_result"
    }
   ],
   "source": [
    "necta['fips_state_place'].unique().shape"
   ]
  },
  {
   "cell_type": "code",
   "execution_count": 46,
   "metadata": {},
   "outputs": [
    {
     "data": {
      "text/html": [
       "<div>\n",
       "<style scoped>\n",
       "    .dataframe tbody tr th:only-of-type {\n",
       "        vertical-align: middle;\n",
       "    }\n",
       "\n",
       "    .dataframe tbody tr th {\n",
       "        vertical-align: top;\n",
       "    }\n",
       "\n",
       "    .dataframe thead th {\n",
       "        text-align: right;\n",
       "    }\n",
       "</style>\n",
       "<table border=\"1\" class=\"dataframe\">\n",
       "  <thead>\n",
       "    <tr style=\"text-align: right;\">\n",
       "      <th></th>\n",
       "      <th>NECTA Code</th>\n",
       "      <th>NECTA Division Code</th>\n",
       "      <th>Combined NECTA Code</th>\n",
       "      <th>NECTA Title</th>\n",
       "      <th>Metropolitan/Micropolitan NECTA</th>\n",
       "      <th>NECTA Division Title</th>\n",
       "      <th>Combined NECTA Title</th>\n",
       "      <th>City or Town Name</th>\n",
       "      <th>FIPS State Code</th>\n",
       "      <th>FIPS County Code</th>\n",
       "      <th>FIPS County Subdivision Code</th>\n",
       "      <th>fips_state_place</th>\n",
       "    </tr>\n",
       "  </thead>\n",
       "  <tbody>\n",
       "    <tr>\n",
       "      <th>188</th>\n",
       "      <td>71650</td>\n",
       "      <td>71634.0</td>\n",
       "      <td>715.0</td>\n",
       "      <td>Boston-Cambridge-Newton, MA-NH</td>\n",
       "      <td>Metropolitan NECTA</td>\n",
       "      <td>Boston-Cambridge-Newton, MA</td>\n",
       "      <td>Boston-Worcester-Providence, MA-RI-NH-CT-ME</td>\n",
       "      <td>Boston city</td>\n",
       "      <td>G250</td>\n",
       "      <td>0250</td>\n",
       "      <td>07000</td>\n",
       "      <td>G250025007000</td>\n",
       "    </tr>\n",
       "  </tbody>\n",
       "</table>\n",
       "</div>"
      ],
      "text/plain": [
       "     NECTA Code  NECTA Division Code  Combined NECTA Code  \\\n",
       "188       71650              71634.0                715.0   \n",
       "\n",
       "                        NECTA Title Metropolitan/Micropolitan NECTA  \\\n",
       "188  Boston-Cambridge-Newton, MA-NH              Metropolitan NECTA   \n",
       "\n",
       "            NECTA Division Title                         Combined NECTA Title  \\\n",
       "188  Boston-Cambridge-Newton, MA  Boston-Worcester-Providence, MA-RI-NH-CT-ME   \n",
       "\n",
       "    City or Town Name FIPS State Code FIPS County Code  \\\n",
       "188       Boston city            G250             0250   \n",
       "\n",
       "    FIPS County Subdivision Code fips_state_place  \n",
       "188                        07000    G250025007000  "
      ]
     },
     "execution_count": 46,
     "metadata": {},
     "output_type": "execute_result"
    }
   ],
   "source": [
    "necta[necta['fips_state_place'] == 'G250025007000']"
   ]
  },
  {
   "cell_type": "code",
   "execution_count": null,
   "metadata": {},
   "outputs": [],
   "source": [
    "necta.drop(inplace=True, columns=['NECTA Division Code', \n",
    "                    'Combined NECTA Code', \n",
    "                    'NECTA Division Title', \n",
    "                    'FIPS State Code',\n",
    "                    'FIPS County Code',\n",
    "                    'FIPS County Subdivision Code'])"
   ]
  },
  {
   "cell_type": "code",
   "execution_count": null,
   "metadata": {},
   "outputs": [],
   "source": [
    "necta.head()"
   ]
  },
  {
   "cell_type": "code",
   "execution_count": null,
   "metadata": {},
   "outputs": [],
   "source": [
    "necta_cols = {\n",
    "    'NECTA Code': 'CBSA Code',\n",
    "    'NECTA Title': 'CBSA Title',\n",
    "    'Metropolitan/Micropolitan NECTA': 'Metropolitan/Micropolitan Statistical Area', \n",
    "    'City or Town Name': 'Principal City Name'\n",
    "}"
   ]
  },
  {
   "cell_type": "code",
   "execution_count": null,
   "metadata": {},
   "outputs": [],
   "source": [
    "necta.drop(columns='Combined NECTA Title', inplace=True)"
   ]
  },
  {
   "cell_type": "code",
   "execution_count": null,
   "metadata": {},
   "outputs": [],
   "source": [
    "necta.rename(columns=necta_cols, inplace=True)"
   ]
  },
  {
   "cell_type": "code",
   "execution_count": null,
   "metadata": {},
   "outputs": [],
   "source": [
    "necta.head()"
   ]
  },
  {
   "cell_type": "code",
   "execution_count": null,
   "metadata": {},
   "outputs": [],
   "source": [
    "necta.tail()"
   ]
  },
  {
   "cell_type": "code",
   "execution_count": null,
   "metadata": {},
   "outputs": [],
   "source": [
    "necta.dropna(inplace=True)"
   ]
  },
  {
   "cell_type": "code",
   "execution_count": null,
   "metadata": {},
   "outputs": [],
   "source": [
    "necta.to_csv(processed_dir+necta_fname, index=False)"
   ]
  },
  {
   "cell_type": "code",
   "execution_count": null,
   "metadata": {},
   "outputs": [],
   "source": [
    "necta.tail()"
   ]
  },
  {
   "cell_type": "markdown",
   "metadata": {},
   "source": [
    "## USMSA data"
   ]
  },
  {
   "cell_type": "code",
   "execution_count": null,
   "metadata": {},
   "outputs": [],
   "source": [
    "usmsa_fname = 'usmsa_fips_mapping_sep2018.csv'\n",
    "usmsa = pd.read_csv(processed_dir+usmsa_fname, dtype={'CBSA Code': str})"
   ]
  },
  {
   "cell_type": "code",
   "execution_count": null,
   "metadata": {},
   "outputs": [],
   "source": [
    "usmsa.head()"
   ]
  },
  {
   "cell_type": "code",
   "execution_count": null,
   "metadata": {},
   "outputs": [],
   "source": [
    "usmsa.tail()"
   ]
  },
  {
   "cell_type": "code",
   "execution_count": null,
   "metadata": {},
   "outputs": [],
   "source": [
    "usmsa_necta = pd.concat((usmsa, necta))"
   ]
  },
  {
   "cell_type": "code",
   "execution_count": null,
   "metadata": {},
   "outputs": [],
   "source": [
    "usmsa_necta.head()"
   ]
  },
  {
   "cell_type": "code",
   "execution_count": null,
   "metadata": {},
   "outputs": [],
   "source": [
    "usmsa_necta.tail()"
   ]
  },
  {
   "cell_type": "code",
   "execution_count": null,
   "metadata": {},
   "outputs": [],
   "source": [
    "usmsa.merge(right=necta, left_on='CBSA Code', right_on='CBSA Code')"
   ]
  },
  {
   "cell_type": "code",
   "execution_count": null,
   "metadata": {},
   "outputs": [],
   "source": [
    "usmsa_necta.to_csv(processed_dir+'usmsa_necta_fips_mapping_sep2018.csv', index=False)"
   ]
  },
  {
   "cell_type": "code",
   "execution_count": null,
   "metadata": {},
   "outputs": [],
   "source": []
  }
 ],
 "metadata": {
  "kernelspec": {
   "display_name": "Python 2",
   "language": "python",
   "name": "python2"
  },
  "language_info": {
   "codemirror_mode": {
    "name": "ipython",
    "version": 2
   },
   "file_extension": ".py",
   "mimetype": "text/x-python",
   "name": "python",
   "nbconvert_exporter": "python",
   "pygments_lexer": "ipython2",
   "version": "2.7.15"
  }
 },
 "nbformat": 4,
 "nbformat_minor": 2
}
