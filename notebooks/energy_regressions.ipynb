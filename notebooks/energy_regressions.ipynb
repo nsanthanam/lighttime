{
 "cells": [
  {
   "cell_type": "code",
   "execution_count": 1,
   "metadata": {},
   "outputs": [],
   "source": [
    "%matplotlib inline\n",
    "import pandas as pd\n",
    "import numpy as np\n",
    "import matplotlib.pyplot as plt"
   ]
  },
  {
   "cell_type": "code",
   "execution_count": 2,
   "metadata": {},
   "outputs": [],
   "source": [
    "pd.options.display.max_rows = 50"
   ]
  },
  {
   "cell_type": "markdown",
   "metadata": {},
   "source": [
    "# Functions"
   ]
  },
  {
   "cell_type": "code",
   "execution_count": 3,
   "metadata": {},
   "outputs": [],
   "source": [
    "def linreg(X, Y):\n",
    "    \"\"\"\n",
    "        Summary\n",
    "        Linear regression of y = ax + b\n",
    "        Usage\n",
    "        real, real, real = linreg(list, list)\n",
    "        Returns coefficients to the regression line \"y=ax+b\" from x[] and y[], and R^2 Value\n",
    "        \"\"\"\n",
    "    if len(X) != len(Y):  raise ValueError(\"unequal length\")\n",
    "    N = len(X)\n",
    "    Sx = Sy = Sxx = Syy = Sxy = 0.0\n",
    "    for x, y in zip(X, Y):\n",
    "        Sx = Sx + x\n",
    "        Sy = Sy + y\n",
    "        Sxx = Sxx + x*x\n",
    "        Syy = Syy + y*y\n",
    "        Sxy = Sxy + x*y\n",
    "    det = Sxx * N - Sx * Sx\n",
    "    a, b = (Sxy * N - Sy * Sx)/det, (Sxx * Sy - Sx * Sxy)/det\n",
    "    meanerror = residual = 0.0\n",
    "    for x, y in zip(X, Y):\n",
    "        meanerror = meanerror + (y - Sy/N)**2\n",
    "        residual = residual + (y - a * x - b)**2\n",
    "    RR = 1 - residual/meanerror\n",
    "    ss = residual / (N-2)\n",
    "    Var_a, Var_b = ss * N / det, ss * Sxx / det\n",
    "    return a, b, RR, Var_a, Var_b"
   ]
  },
  {
   "cell_type": "code",
   "execution_count": 4,
   "metadata": {},
   "outputs": [],
   "source": [
    "def plot_scatter(df, predicted, predictor='', title=''):\n",
    "    if not title:\n",
    "        title = '%s vs %s' % (predicted, predictor)\n",
    "    with plt.style.context('bmh'):\n",
    "        df.plot(x=predictor, \n",
    "                y=predicted, \n",
    "                figsize=(14, 8), \n",
    "                kind='scatter', \n",
    "                title=title)"
   ]
  },
  {
   "cell_type": "markdown",
   "metadata": {},
   "source": [
    "# Read data"
   ]
  },
  {
   "cell_type": "code",
   "execution_count": 5,
   "metadata": {},
   "outputs": [],
   "source": [
    "project_dir = '/Users/navaneethan/Documents/projects/lighttime/'\n",
    "raw_dir = project_dir + 'raw/'\n",
    "processed_dir = project_dir + 'processed/'\n",
    "\n",
    "energy_fname = 'energy_usmsa.csv'"
   ]
  },
  {
   "cell_type": "code",
   "execution_count": 6,
   "metadata": {},
   "outputs": [],
   "source": [
    "energy = pd.read_csv(processed_dir+energy_fname)"
   ]
  },
  {
   "cell_type": "code",
   "execution_count": 8,
   "metadata": {},
   "outputs": [
    {
     "data": {
      "text/plain": [
       "429    6684008.0\n",
       "816    4751351.0\n",
       "136    3449096.0\n",
       "179    3276672.0\n",
       "576    2728685.0\n",
       "Name: total_pop, dtype: float64"
      ]
     },
     "execution_count": 8,
     "metadata": {},
     "output_type": "execute_result"
    }
   ],
   "source": [
    "energy.sort_values(by='total_pop', ascending=False).head()['total_pop']"
   ]
  },
  {
   "cell_type": "code",
   "execution_count": null,
   "metadata": {},
   "outputs": [],
   "source": [
    "res_com_ind.set_index(keys='gisjoin', inplace=True)"
   ]
  },
  {
   "cell_type": "code",
   "execution_count": null,
   "metadata": {},
   "outputs": [],
   "source": [
    "np.arange(0, 1, 0.1)"
   ]
  },
  {
   "cell_type": "code",
   "execution_count": null,
   "metadata": {},
   "outputs": [],
   "source": [
    "res_com_ind.sort_values(by='total_pop', ascending=False).head()"
   ]
  },
  {
   "cell_type": "code",
   "execution_count": null,
   "metadata": {},
   "outputs": [],
   "source": [
    "res_com_ind.reset_index()['gisjoin'].value_counts(dropna=False)"
   ]
  },
  {
   "cell_type": "code",
   "execution_count": null,
   "metadata": {},
   "outputs": [],
   "source": [
    "res_com_ind['total_pop'].describe(percentiles=np.arange(0, 1, 0.05))"
   ]
  },
  {
   "cell_type": "code",
   "execution_count": null,
   "metadata": {},
   "outputs": [],
   "source": [
    "res_com_ind.replace([np.inf, -np.inf], value=np.nan, inplace=True)\n",
    "res_com_ind.dropna(inplace=True)\n",
    "\n",
    "with plt.style.context('bmh'):\n",
    "    res_com_ind['total_pop'].plot(kind='hist', figsize=(14, 8))"
   ]
  },
  {
   "cell_type": "code",
   "execution_count": null,
   "metadata": {},
   "outputs": [],
   "source": [
    "res_com_ind.head()"
   ]
  },
  {
   "cell_type": "code",
   "execution_count": null,
   "metadata": {},
   "outputs": [],
   "source": [
    "for pc in res_com_ind.columns:\n",
    "    res_com_ind['log_'+pc] = res_com_ind[pc].apply(lambda col: np.log10(col))"
   ]
  },
  {
   "cell_type": "code",
   "execution_count": null,
   "metadata": {},
   "outputs": [],
   "source": [
    "res_com_ind.head()"
   ]
  },
  {
   "cell_type": "code",
   "execution_count": null,
   "metadata": {},
   "outputs": [],
   "source": [
    "res_com_ind_log = res_com_ind[[col for col in res_com_ind.columns if col.startswith('log_')]].copy()"
   ]
  },
  {
   "cell_type": "code",
   "execution_count": null,
   "metadata": {},
   "outputs": [],
   "source": [
    "res_com_ind_log.shape"
   ]
  },
  {
   "cell_type": "code",
   "execution_count": null,
   "metadata": {},
   "outputs": [],
   "source": [
    "res_com_ind_log.replace([np.inf, -np.inf], value=np.nan, inplace=True)\n",
    "res_com_ind_log.dropna(inplace=True)"
   ]
  },
  {
   "cell_type": "code",
   "execution_count": null,
   "metadata": {},
   "outputs": [],
   "source": [
    "res_com_ind_log.shape"
   ]
  },
  {
   "cell_type": "code",
   "execution_count": null,
   "metadata": {},
   "outputs": [],
   "source": [
    "res_com_ind_log[np.isinf(res_com_ind_log['log_res_gas_mcf'])]"
   ]
  },
  {
   "cell_type": "code",
   "execution_count": null,
   "metadata": {},
   "outputs": [],
   "source": [
    "res_com_ind_log.notna().sum()"
   ]
  },
  {
   "cell_type": "code",
   "execution_count": null,
   "metadata": {},
   "outputs": [],
   "source": [
    "res_com_ind_log.head()"
   ]
  },
  {
   "cell_type": "code",
   "execution_count": null,
   "metadata": {},
   "outputs": [],
   "source": [
    "predictor_cols = [\n",
    "    'log_housing_units', \n",
    "    'log_total_pop',\n",
    "    'log_com_num_establishments',\n",
    "    'log_ind_num_establishments'\n",
    "]"
   ]
  },
  {
   "cell_type": "code",
   "execution_count": null,
   "metadata": {},
   "outputs": [],
   "source": [
    "predicted_cols = list(set(res_com_ind_log.columns).difference(predictor_cols))"
   ]
  },
  {
   "cell_type": "code",
   "execution_count": null,
   "metadata": {},
   "outputs": [],
   "source": [
    "sorted(predicted_cols)"
   ]
  },
  {
   "cell_type": "code",
   "execution_count": null,
   "metadata": {},
   "outputs": [],
   "source": [
    "res_com_ind_log[['log_total_pop', 'log_res_elec_mwh']].describe()"
   ]
  },
  {
   "cell_type": "code",
   "execution_count": null,
   "metadata": {},
   "outputs": [],
   "source": [
    "linreg(X=res_com_ind_log['log_total_pop'], Y=res_com_ind_log['log_housing_units'])\n",
    "plot_scatter(df=res_com_ind_log, predictor='log_total_pop', predicted='log_housing_units')"
   ]
  },
  {
   "cell_type": "code",
   "execution_count": null,
   "metadata": {},
   "outputs": [],
   "source": [
    "linreg(X=res_com_ind_log['log_total_pop'], Y=res_com_ind_log['log_com_num_establishments'])\n",
    "plot_scatter(df=res_com_ind_log, predictor='log_total_pop', predicted='log_com_num_establishments')"
   ]
  },
  {
   "cell_type": "code",
   "execution_count": null,
   "metadata": {},
   "outputs": [],
   "source": [
    "linreg(X=res_com_ind_log['log_total_pop'], Y=res_com_ind_log['log_ind_elec_mwh'])"
   ]
  },
  {
   "cell_type": "code",
   "execution_count": null,
   "metadata": {},
   "outputs": [],
   "source": [
    "linreg(X=res_com_ind_log['log_ind_num_establishments'], Y=res_com_ind_log['log_ind_elec_mwh'])"
   ]
  },
  {
   "cell_type": "code",
   "execution_count": null,
   "metadata": {},
   "outputs": [],
   "source": [
    "linreg(X=res_com_ind_log['log_total_pop'], Y=res_com_ind_log['log_ind_num_establishments'])"
   ]
  },
  {
   "cell_type": "code",
   "execution_count": null,
   "metadata": {},
   "outputs": [],
   "source": [
    "linreg(X=res_com_ind_log['log_total_pop'], Y=res_com_ind_log['log_res_elec_mwh'])"
   ]
  },
  {
   "cell_type": "code",
   "execution_count": null,
   "metadata": {},
   "outputs": [],
   "source": [
    "linreg(X=res_com_ind_log['log_total_pop'], Y=res_com_ind_log['log_res_gas_mcf'])"
   ]
  }
 ],
 "metadata": {
  "kernelspec": {
   "display_name": "Python 2",
   "language": "python",
   "name": "python2"
  },
  "language_info": {
   "codemirror_mode": {
    "name": "ipython",
    "version": 2
   },
   "file_extension": ".py",
   "mimetype": "text/x-python",
   "name": "python",
   "nbconvert_exporter": "python",
   "pygments_lexer": "ipython2",
   "version": "2.7.15"
  }
 },
 "nbformat": 4,
 "nbformat_minor": 2
}
