{
 "cells": [
  {
   "cell_type": "code",
   "execution_count": 2,
   "metadata": {},
   "outputs": [],
   "source": [
    "%matplotlib inline\n",
    "import pandas as pd\n",
    "import numpy as np\n",
    "import matplotlib.pyplot as plt"
   ]
  },
  {
   "cell_type": "code",
   "execution_count": 3,
   "metadata": {},
   "outputs": [],
   "source": [
    "pd.options.display.max_rows = 50"
   ]
  },
  {
   "cell_type": "markdown",
   "metadata": {},
   "source": [
    "# Functions"
   ]
  },
  {
   "cell_type": "code",
   "execution_count": 4,
   "metadata": {},
   "outputs": [],
   "source": [
    "def linreg(X, Y):\n",
    "    \"\"\"\n",
    "        Summary\n",
    "        Linear regression of y = ax + b\n",
    "        Usage\n",
    "        real, real, real = linreg(list, list)\n",
    "        Returns coefficients to the regression line \"y=ax+b\" from x[] and y[], and R^2 Value\n",
    "        \"\"\"\n",
    "    if len(X) != len(Y):  raise ValueError(\"unequal length\")\n",
    "    N = len(X)\n",
    "    Sx = Sy = Sxx = Syy = Sxy = 0.0\n",
    "    for x, y in zip(X, Y):\n",
    "        Sx = Sx + x\n",
    "        Sy = Sy + y\n",
    "        Sxx = Sxx + x*x\n",
    "        Syy = Syy + y*y\n",
    "        Sxy = Sxy + x*y\n",
    "    det = Sxx * N - Sx * Sx\n",
    "    a, b = (Sxy * N - Sy * Sx)/det, (Sxx * Sy - Sx * Sxy)/det\n",
    "    meanerror = residual = 0.0\n",
    "    for x, y in zip(X, Y):\n",
    "        meanerror = meanerror + (y - Sy/N)**2\n",
    "        residual = residual + (y - a * x - b)**2\n",
    "    RR = 1 - residual/meanerror\n",
    "    ss = residual / (N-2)\n",
    "    Var_a, Var_b = ss * N / det, ss * Sxx / det\n",
    "    return a, b, RR, Var_a, Var_b"
   ]
  },
  {
   "cell_type": "code",
   "execution_count": 5,
   "metadata": {},
   "outputs": [],
   "source": [
    "def plot_scatter(df, predicted, title, predictor='logPOP'):\n",
    "    with plt.style.context('bmh'):\n",
    "        df.plot(x=predictor, \n",
    "                y=predicted, \n",
    "                figsize=(14, 8), \n",
    "                kind='scatter', \n",
    "                title=title)"
   ]
  },
  {
   "cell_type": "markdown",
   "metadata": {},
   "source": [
    "# Read data"
   ]
  },
  {
   "cell_type": "code",
   "execution_count": 6,
   "metadata": {},
   "outputs": [],
   "source": [
    "project_dir = '/Users/navaneethan/Documents/projects/lighttime/'\n",
    "raw_dir = project_dir + 'raw/'\n",
    "processed_dir = project_dir + 'processed/'"
   ]
  },
  {
   "cell_type": "code",
   "execution_count": 7,
   "metadata": {},
   "outputs": [],
   "source": [
    "oecd_metros = 'oecd_metros.csv'"
   ]
  },
  {
   "cell_type": "code",
   "execution_count": 8,
   "metadata": {},
   "outputs": [],
   "source": [
    "oecd = pd.read_csv(processed_dir+oecd_metros)"
   ]
  },
  {
   "cell_type": "code",
   "execution_count": 9,
   "metadata": {},
   "outputs": [
    {
     "data": {
      "text/plain": [
       "Index([u'geoid10', u'Area', u'intptlat10', u'intptlon10', u'vi12_count',\n",
       "       u'vi12_sum', u'vi12_mean', u'rad10count', u'rad10sum', u'rad10mean',\n",
       "       u'ntl10count', u'ntl10sum', u'ntl10mean', u'van10count', u'van10sum',\n",
       "       u'van10mean', u'FIPS', u'country', u'cnt_code', u'pop2010', u'gdp2010',\n",
       "       u'logGDP', u'logNTL', u'logRAD', u'logVAN', u'logVI', u'logNTLsq',\n",
       "       u'logRADsq', u'logVANsq', u'logVIsq', u'logNTLcub', u'logRADcub',\n",
       "       u'logVANcub', u'logVIcub', u'latitude', u'usmsa', u'logPOP',\n",
       "       u'logPOPsq', u'cnt_num', u'is_europe'],\n",
       "      dtype='object')"
      ]
     },
     "execution_count": 9,
     "metadata": {},
     "output_type": "execute_result"
    }
   ],
   "source": [
    "oecd.columns"
   ]
  },
  {
   "cell_type": "code",
   "execution_count": 10,
   "metadata": {},
   "outputs": [
    {
     "data": {
      "text/html": [
       "<div>\n",
       "<style scoped>\n",
       "    .dataframe tbody tr th:only-of-type {\n",
       "        vertical-align: middle;\n",
       "    }\n",
       "\n",
       "    .dataframe tbody tr th {\n",
       "        vertical-align: top;\n",
       "    }\n",
       "\n",
       "    .dataframe thead th {\n",
       "        text-align: right;\n",
       "    }\n",
       "</style>\n",
       "<table border=\"1\" class=\"dataframe\">\n",
       "  <thead>\n",
       "    <tr style=\"text-align: right;\">\n",
       "      <th></th>\n",
       "      <th>geoid10</th>\n",
       "      <th>Area</th>\n",
       "      <th>intptlat10</th>\n",
       "      <th>intptlon10</th>\n",
       "      <th>pop2010</th>\n",
       "      <th>rad10mean</th>\n",
       "      <th>ntl10count</th>\n",
       "      <th>ntl10sum</th>\n",
       "      <th>ntl10mean</th>\n",
       "      <th>van10count</th>\n",
       "      <th>van10sum</th>\n",
       "      <th>van10mean</th>\n",
       "      <th>FIPS</th>\n",
       "    </tr>\n",
       "  </thead>\n",
       "  <tbody>\n",
       "    <tr>\n",
       "      <th>0</th>\n",
       "      <td>10180.0</td>\n",
       "      <td>Abilene, TX</td>\n",
       "      <td>32.452023</td>\n",
       "      <td>-99.718742</td>\n",
       "      <td>165252</td>\n",
       "      <td>6.780365</td>\n",
       "      <td>9858</td>\n",
       "      <td>51477</td>\n",
       "      <td>5.221850</td>\n",
       "      <td>9886</td>\n",
       "      <td>508.707031</td>\n",
       "      <td>0.051457</td>\n",
       "      <td>10180</td>\n",
       "    </tr>\n",
       "    <tr>\n",
       "      <th>1</th>\n",
       "      <td>10420.0</td>\n",
       "      <td>Akron, OH</td>\n",
       "      <td>41.146641</td>\n",
       "      <td>-81.350113</td>\n",
       "      <td>703200</td>\n",
       "      <td>67.471321</td>\n",
       "      <td>3699</td>\n",
       "      <td>161197</td>\n",
       "      <td>43.578533</td>\n",
       "      <td>3708</td>\n",
       "      <td>1099.855591</td>\n",
       "      <td>0.296617</td>\n",
       "      <td>10420</td>\n",
       "    </tr>\n",
       "    <tr>\n",
       "      <th>2</th>\n",
       "      <td>10500.0</td>\n",
       "      <td>Albany, GA</td>\n",
       "      <td>31.589302</td>\n",
       "      <td>-84.174911</td>\n",
       "      <td>157308</td>\n",
       "      <td>9.708832</td>\n",
       "      <td>6944</td>\n",
       "      <td>62337</td>\n",
       "      <td>8.977102</td>\n",
       "      <td>6934</td>\n",
       "      <td>413.040680</td>\n",
       "      <td>0.059567</td>\n",
       "      <td>10500</td>\n",
       "    </tr>\n",
       "    <tr>\n",
       "      <th>3</th>\n",
       "      <td>10580.0</td>\n",
       "      <td>Albany-Schenectady-Troy, NY</td>\n",
       "      <td>42.787922</td>\n",
       "      <td>-73.942345</td>\n",
       "      <td>870716</td>\n",
       "      <td>18.039358</td>\n",
       "      <td>11816</td>\n",
       "      <td>234142</td>\n",
       "      <td>19.815674</td>\n",
       "      <td>11787</td>\n",
       "      <td>1449.650513</td>\n",
       "      <td>0.122987</td>\n",
       "      <td>10580</td>\n",
       "    </tr>\n",
       "    <tr>\n",
       "      <th>4</th>\n",
       "      <td>10740.0</td>\n",
       "      <td>Albuquerque, NM</td>\n",
       "      <td>35.116604</td>\n",
       "      <td>-106.456535</td>\n",
       "      <td>887077</td>\n",
       "      <td>7.369433</td>\n",
       "      <td>34282</td>\n",
       "      <td>155764</td>\n",
       "      <td>4.543609</td>\n",
       "      <td>34201</td>\n",
       "      <td>1950.413330</td>\n",
       "      <td>0.057028</td>\n",
       "      <td>10740</td>\n",
       "    </tr>\n",
       "  </tbody>\n",
       "</table>\n",
       "</div>"
      ],
      "text/plain": [
       "   geoid10                         Area  intptlat10  intptlon10  pop2010  \\\n",
       "0  10180.0                  Abilene, TX   32.452023  -99.718742   165252   \n",
       "1  10420.0                    Akron, OH   41.146641  -81.350113   703200   \n",
       "2  10500.0                   Albany, GA   31.589302  -84.174911   157308   \n",
       "3  10580.0  Albany-Schenectady-Troy, NY   42.787922  -73.942345   870716   \n",
       "4  10740.0              Albuquerque, NM   35.116604 -106.456535   887077   \n",
       "\n",
       "   rad10mean  ntl10count  ntl10sum  ntl10mean  van10count     van10sum  \\\n",
       "0   6.780365        9858     51477   5.221850        9886   508.707031   \n",
       "1  67.471321        3699    161197  43.578533        3708  1099.855591   \n",
       "2   9.708832        6944     62337   8.977102        6934   413.040680   \n",
       "3  18.039358       11816    234142  19.815674       11787  1449.650513   \n",
       "4   7.369433       34282    155764   4.543609       34201  1950.413330   \n",
       "\n",
       "   van10mean   FIPS  \n",
       "0   0.051457  10180  \n",
       "1   0.296617  10420  \n",
       "2   0.059567  10500  \n",
       "3   0.122987  10580  \n",
       "4   0.057028  10740  "
      ]
     },
     "execution_count": 10,
     "metadata": {},
     "output_type": "execute_result"
    }
   ],
   "source": [
    "oecd[['geoid10', 'Area', 'intptlat10', u'intptlon10', 'pop2010', 'rad10mean', 'ntl10count', u'ntl10sum', \n",
    "      u'ntl10mean', u'van10count', u'van10sum', u'van10mean', u'FIPS']].head()"
   ]
  },
  {
   "cell_type": "code",
   "execution_count": 11,
   "metadata": {},
   "outputs": [],
   "source": [
    "predictor_col = 'logPOP'\n",
    "\n",
    "predicted_cols = [\n",
    "    'logGDP',\n",
    "    'logNTL', \n",
    "    'logRAD', \n",
    "    'logVAN', \n",
    "    'logVI', \n",
    "    'logNTLsq', \n",
    "    'logRADsq', \n",
    "    'logVANsq', \n",
    "    'logVIsq', \n",
    "    'logNTLcub', \n",
    "    'logRADcub', \n",
    "    'logVANcub', \n",
    "    'logVIcub'\n",
    "]"
   ]
  },
  {
   "cell_type": "code",
   "execution_count": 12,
   "metadata": {},
   "outputs": [],
   "source": [
    "usa = oecd[oecd['usmsa'] == 1].copy()"
   ]
  },
  {
   "cell_type": "code",
   "execution_count": 13,
   "metadata": {},
   "outputs": [],
   "source": [
    "def linreg(X, Y):\n",
    "    \"\"\"\n",
    "        Summary\n",
    "        Linear regression of y = ax + b\n",
    "        Usage\n",
    "        real, real, real = linreg(list, list)\n",
    "        Returns coefficients to the regression line \"y=ax+b\" from x[] and y[], and R^2 Value\n",
    "        \"\"\"\n",
    "    if len(X) != len(Y):  raise ValueError(\"unequal length\")\n",
    "    N = len(X)\n",
    "    Sx = Sy = Sxx = Syy = Sxy = 0.0\n",
    "    for x, y in zip(X, Y):\n",
    "        Sx = Sx + x\n",
    "        Sy = Sy + y\n",
    "        Sxx = Sxx + x*x\n",
    "        Syy = Syy + y*y\n",
    "        Sxy = Sxy + x*y\n",
    "    det = Sxx * N - Sx * Sx\n",
    "    a, b = (Sxy * N - Sy * Sx)/det, (Sxx * Sy - Sx * Sxy)/det\n",
    "    meanerror = residual = 0.0\n",
    "    for x, y in zip(X, Y):\n",
    "        meanerror = meanerror + (y - Sy/N)**2\n",
    "        residual = residual + (y - a * x - b)**2\n",
    "    RR = 1 - residual/meanerror\n",
    "    ss = residual / (N-2)\n",
    "    Var_a, Var_b = ss * N / det, ss * Sxx / det\n",
    "    return a, b, RR, Var_a, Var_b"
   ]
  },
  {
   "cell_type": "code",
   "execution_count": 14,
   "metadata": {},
   "outputs": [
    {
     "data": {
      "text/plain": [
       "(1.1128788697806298,\n",
       " -2.0852564708997496,\n",
       " 0.9560231856568299,\n",
       " 0.0001637087491703274,\n",
       " 0.00501391820183559)"
      ]
     },
     "execution_count": 14,
     "metadata": {},
     "output_type": "execute_result"
    }
   ],
   "source": [
    "linreg(X=np.log10(usa['pop2010']), Y=np.log10(usa['gdp2010']))"
   ]
  },
  {
   "cell_type": "code",
   "execution_count": 15,
   "metadata": {},
   "outputs": [
    {
     "data": {
      "text/plain": [
       "(0.8896852277881744,\n",
       " 0.14421306556060895,\n",
       " 0.8946305420426806,\n",
       " 0.0002678949585117925,\n",
       " 0.008204835816470375)"
      ]
     },
     "execution_count": 15,
     "metadata": {},
     "output_type": "execute_result"
    }
   ],
   "source": [
    "linreg(X=np.log10(usa['pop2010']), Y=np.log10(usa['rad10sum']))"
   ]
  },
  {
   "cell_type": "markdown",
   "metadata": {},
   "source": [
    "# Log-based regressions"
   ]
  },
  {
   "cell_type": "markdown",
   "metadata": {},
   "source": [
    "### Population-GDP"
   ]
  },
  {
   "cell_type": "code",
   "execution_count": 16,
   "metadata": {},
   "outputs": [
    {
     "data": {
      "text/plain": [
       "(1.112878868761455,\n",
       " -4.801480450583713,\n",
       " 0.95602317614901,\n",
       " 0.00016370878589255314,\n",
       " 0.026583289380338035)"
      ]
     },
     "execution_count": 16,
     "metadata": {},
     "output_type": "execute_result"
    }
   ],
   "source": [
    "linreg(X=usa[predictor_col], Y=usa[predicted_cols[0]])"
   ]
  },
  {
   "cell_type": "markdown",
   "metadata": {},
   "source": [
    "### Population-NTL"
   ]
  },
  {
   "cell_type": "code",
   "execution_count": 17,
   "metadata": {},
   "outputs": [
    {
     "data": {
      "text/plain": [
       "(0.7092369903950991,\n",
       " 2.4817515702007897,\n",
       " 0.8629275975622185,\n",
       " 0.00022960385665274805,\n",
       " 0.037283434306620795)"
      ]
     },
     "execution_count": 17,
     "metadata": {},
     "output_type": "execute_result"
    }
   ],
   "source": [
    "linreg(X=usa[predictor_col], Y=usa[predicted_cols[1]])"
   ]
  },
  {
   "cell_type": "markdown",
   "metadata": {},
   "source": [
    "### Population-RAD"
   ]
  },
  {
   "cell_type": "code",
   "execution_count": 18,
   "metadata": {},
   "outputs": [
    {
     "data": {
      "text/plain": [
       "(0.8896852455000789,\n",
       " 0.33206264020955256,\n",
       " 0.894630540487357,\n",
       " 0.0002678949735983228,\n",
       " 0.04350120592413592)"
      ]
     },
     "execution_count": 18,
     "metadata": {},
     "output_type": "execute_result"
    }
   ],
   "source": [
    "linreg(X=usa[predictor_col], Y=usa[predicted_cols[2]])"
   ]
  },
  {
   "cell_type": "markdown",
   "metadata": {},
   "source": [
    "### Population-VAN"
   ]
  },
  {
   "cell_type": "code",
   "execution_count": 19,
   "metadata": {},
   "outputs": [
    {
     "data": {
      "text/plain": [
       "(0.6983739973331021,\n",
       " -2.2911785685186725,\n",
       " 0.8012347284978341,\n",
       " 0.0003476783268699355,\n",
       " 0.056456551944141425)"
      ]
     },
     "execution_count": 19,
     "metadata": {},
     "output_type": "execute_result"
    }
   ],
   "source": [
    "linreg(X=usa[predictor_col], Y=usa[predicted_cols[3]])"
   ]
  },
  {
   "cell_type": "markdown",
   "metadata": {},
   "source": [
    "### Population-VI"
   ]
  },
  {
   "cell_type": "code",
   "execution_count": 20,
   "metadata": {},
   "outputs": [
    {
     "data": {
      "text/plain": [
       "(0.8609132822964233,\n",
       " -0.08969443900812288,\n",
       " 0.8621776744447075,\n",
       " 0.0003404570826361835,\n",
       " 0.05528395498115424)"
      ]
     },
     "execution_count": 20,
     "metadata": {},
     "output_type": "execute_result"
    }
   ],
   "source": [
    "linreg(X=usa[predictor_col], Y=usa[predicted_cols[4]])"
   ]
  },
  {
   "cell_type": "markdown",
   "metadata": {},
   "source": [
    "## GDP"
   ]
  },
  {
   "cell_type": "markdown",
   "metadata": {},
   "source": [
    "### GDP-NTL"
   ]
  },
  {
   "cell_type": "code",
   "execution_count": 21,
   "metadata": {},
   "outputs": [
    {
     "data": {
      "text/plain": [
       "(0.6164678593941739,\n",
       " 5.736111206498096,\n",
       " 0.844578168869031,\n",
       " 0.00020096193499608163,\n",
       " 0.017787816957095953)"
      ]
     },
     "execution_count": 21,
     "metadata": {},
     "output_type": "execute_result"
    }
   ],
   "source": [
    "linreg(X=usa[predicted_cols[0]], Y=usa[predicted_cols[1]])"
   ]
  },
  {
   "cell_type": "markdown",
   "metadata": {},
   "source": [
    "### NTL-GDP"
   ]
  },
  {
   "cell_type": "code",
   "execution_count": 22,
   "metadata": {},
   "outputs": [
    {
     "data": {
      "text/plain": [
       "(1.370027903319449,\n",
       " -6.408387637473636,\n",
       " 0.8445781688690309,\n",
       " 0.0009925485313884324,\n",
       " 0.13164509628161797)"
      ]
     },
     "execution_count": 22,
     "metadata": {},
     "output_type": "execute_result"
    }
   ],
   "source": [
    "linreg(X=usa[predicted_cols[1]], Y=usa[predicted_cols[0]])"
   ]
  },
  {
   "cell_type": "markdown",
   "metadata": {},
   "source": [
    "### Population-RAD"
   ]
  },
  {
   "cell_type": "code",
   "execution_count": null,
   "metadata": {},
   "outputs": [],
   "source": [
    "linreg(X=usa[predicted_cols[0]], Y=usa[predicted_cols[2]])"
   ]
  },
  {
   "cell_type": "markdown",
   "metadata": {},
   "source": [
    "### Population-VAN"
   ]
  },
  {
   "cell_type": "code",
   "execution_count": null,
   "metadata": {},
   "outputs": [],
   "source": [
    "linreg(X=usa[predicted_cols[0]], Y=usa[predicted_cols[3]])"
   ]
  },
  {
   "cell_type": "markdown",
   "metadata": {},
   "source": [
    "### Population-VI"
   ]
  },
  {
   "cell_type": "code",
   "execution_count": null,
   "metadata": {},
   "outputs": [],
   "source": [
    "linreg(X=usa[predicted_cols[0]], Y=usa[predicted_cols[4]])"
   ]
  },
  {
   "cell_type": "markdown",
   "metadata": {},
   "source": [
    "# Plots"
   ]
  },
  {
   "cell_type": "markdown",
   "metadata": {},
   "source": [
    "## Other"
   ]
  },
  {
   "cell_type": "code",
   "execution_count": null,
   "metadata": {},
   "outputs": [],
   "source": [
    "others = oecd[\n",
    "    (oecd['usmsa'] == 0) &\n",
    "    (oecd['is_europe'] == False)\n",
    "].copy()"
   ]
  },
  {
   "cell_type": "code",
   "execution_count": null,
   "metadata": {
    "scrolled": false
   },
   "outputs": [],
   "source": [
    "for pc in predicted_cols:\n",
    "    plot_scatter(df=others, predicted=pc, title='Not USA or Europe')"
   ]
  },
  {
   "cell_type": "markdown",
   "metadata": {},
   "source": [
    "## USA"
   ]
  },
  {
   "cell_type": "code",
   "execution_count": null,
   "metadata": {},
   "outputs": [],
   "source": [
    "for pc in predicted_cols:\n",
    "    plot_scatter(df=usa, predicted=pc, title='USA')"
   ]
  },
  {
   "cell_type": "markdown",
   "metadata": {},
   "source": [
    "## Europe"
   ]
  },
  {
   "cell_type": "code",
   "execution_count": null,
   "metadata": {},
   "outputs": [],
   "source": [
    "europe = oecd[oecd['is_europe'] == True].copy()"
   ]
  },
  {
   "cell_type": "code",
   "execution_count": null,
   "metadata": {},
   "outputs": [],
   "source": [
    "for pc in predicted_cols:\n",
    "    plot_scatter(df=europe, predicted=pc, title='Europe')"
   ]
  }
 ],
 "metadata": {
  "kernelspec": {
   "display_name": "Python 2",
   "language": "python",
   "name": "python2"
  },
  "language_info": {
   "codemirror_mode": {
    "name": "ipython",
    "version": 2
   },
   "file_extension": ".py",
   "mimetype": "text/x-python",
   "name": "python",
   "nbconvert_exporter": "python",
   "pygments_lexer": "ipython2",
   "version": "2.7.15"
  }
 },
 "nbformat": 4,
 "nbformat_minor": 2
}
